{
 "cells": [
  {
   "cell_type": "code",
   "execution_count": 11,
   "source": [
    "from Bio import SeqIO"
   ],
   "outputs": [],
   "metadata": {}
  },
  {
   "cell_type": "code",
   "execution_count": 15,
   "source": [
    "with open(\"./data/nucleotide_fasta_protein_homolog_model.fasta\", \"r\") as f:\n",
    "    fasta_data = SeqIO.parse(f, \"fasta\")\n",
    "    card_db = [s for s in fasta_data]"
   ],
   "outputs": [],
   "metadata": {}
  },
  {
   "cell_type": "code",
   "execution_count": 16,
   "source": [
    "print(f\"# sequências no CARD DB: {len(card_db)}\")"
   ],
   "outputs": [
    {
     "output_type": "stream",
     "name": "stdout",
     "text": [
      "# sequências no CARD DB: 2979\n"
     ]
    }
   ],
   "metadata": {}
  },
  {
   "cell_type": "code",
   "execution_count": null,
   "source": [],
   "outputs": [],
   "metadata": {}
  }
 ],
 "metadata": {
  "orig_nbformat": 4,
  "language_info": {
   "name": "python"
  }
 },
 "nbformat": 4,
 "nbformat_minor": 2
}